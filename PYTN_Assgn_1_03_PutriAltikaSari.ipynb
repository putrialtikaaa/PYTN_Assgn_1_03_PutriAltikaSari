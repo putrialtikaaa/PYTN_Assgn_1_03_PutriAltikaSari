{
 "cells": [
  {
   "cell_type": "markdown",
   "id": "05df0ff1",
   "metadata": {},
   "source": [
    "# Data"
   ]
  },
  {
   "cell_type": "markdown",
   "id": "1a166508",
   "metadata": {
    "id": "1a166508"
   },
   "source": [
    "kejahatan di wilayah metropolitan utama seperti London, terjadi dalam pola yang berbeda. data ini mencakup jumlah laporan kriminalitas menurut bulan, LSOA borough, kategori mayor/minor, dan tahun (2008 - 2016).\n",
    "\n",
    "data df_LondonCrime berjumlah 13 juta data, yang berisi jumlah laporan kriminal menurut bulan, wilayah LSOA, dan kategori mayor/minor, dan tahun (2008 - 2016). jumlah data pada masing-masing tahun sebanyak 1.498.956 data, dengan 33 wilayah dan juga 9 kategori kejahatan mayor.\n",
    "\n",
    "**variabel**\\\n",
    "lsoa_code: code for Lower Super Output Area in Greater London\\\n",
    "borough: Common name for London borough\\\n",
    "major_category: High level categorization of crime\\\n",
    "minor_category: Low level categorization of crime within major category\\\n",
    "value: monthly reported count of categorical crime in given borough\\\n",
    "year: Year of reported counts, 2008-2016\\\n",
    "month: Month of reported counts, 1-12"
   ]
  },
  {
   "cell_type": "markdown",
   "id": "f5d79e10",
   "metadata": {},
   "source": [
    "# Import Libraries"
   ]
  },
  {
   "cell_type": "code",
   "execution_count": 19,
   "id": "6f45a351",
   "metadata": {},
   "outputs": [],
   "source": [
    "import numpy as np\n",
    "import pandas as pd\n",
    "import seaborn as sns\n",
    "import matplotlib.pyplot as plt\n",
    "from wordcloud import WordCloud, STOPWORDS"
   ]
  },
  {
   "cell_type": "markdown",
   "id": "e3626f95",
   "metadata": {},
   "source": [
    "# Read Dataset"
   ]
  },
  {
   "cell_type": "code",
   "execution_count": 20,
   "id": "a2b2628c",
   "metadata": {},
   "outputs": [
    {
     "data": {
      "text/html": [
       "<div>\n",
       "<style scoped>\n",
       "    .dataframe tbody tr th:only-of-type {\n",
       "        vertical-align: middle;\n",
       "    }\n",
       "\n",
       "    .dataframe tbody tr th {\n",
       "        vertical-align: top;\n",
       "    }\n",
       "\n",
       "    .dataframe thead th {\n",
       "        text-align: right;\n",
       "    }\n",
       "</style>\n",
       "<table border=\"1\" class=\"dataframe\">\n",
       "  <thead>\n",
       "    <tr style=\"text-align: right;\">\n",
       "      <th></th>\n",
       "      <th>lsoa_code</th>\n",
       "      <th>borough</th>\n",
       "      <th>major_category</th>\n",
       "      <th>minor_category</th>\n",
       "      <th>value</th>\n",
       "      <th>year</th>\n",
       "      <th>month</th>\n",
       "    </tr>\n",
       "  </thead>\n",
       "  <tbody>\n",
       "    <tr>\n",
       "      <th>0</th>\n",
       "      <td>E01001116</td>\n",
       "      <td>Croydon</td>\n",
       "      <td>Burglary</td>\n",
       "      <td>Burglary in Other Buildings</td>\n",
       "      <td>0</td>\n",
       "      <td>2016</td>\n",
       "      <td>11</td>\n",
       "    </tr>\n",
       "    <tr>\n",
       "      <th>1</th>\n",
       "      <td>E01001646</td>\n",
       "      <td>Greenwich</td>\n",
       "      <td>Violence Against the Person</td>\n",
       "      <td>Other violence</td>\n",
       "      <td>0</td>\n",
       "      <td>2016</td>\n",
       "      <td>11</td>\n",
       "    </tr>\n",
       "    <tr>\n",
       "      <th>2</th>\n",
       "      <td>E01000677</td>\n",
       "      <td>Bromley</td>\n",
       "      <td>Violence Against the Person</td>\n",
       "      <td>Other violence</td>\n",
       "      <td>0</td>\n",
       "      <td>2015</td>\n",
       "      <td>5</td>\n",
       "    </tr>\n",
       "    <tr>\n",
       "      <th>3</th>\n",
       "      <td>E01003774</td>\n",
       "      <td>Redbridge</td>\n",
       "      <td>Burglary</td>\n",
       "      <td>Burglary in Other Buildings</td>\n",
       "      <td>0</td>\n",
       "      <td>2016</td>\n",
       "      <td>3</td>\n",
       "    </tr>\n",
       "    <tr>\n",
       "      <th>4</th>\n",
       "      <td>E01004563</td>\n",
       "      <td>Wandsworth</td>\n",
       "      <td>Robbery</td>\n",
       "      <td>Personal Property</td>\n",
       "      <td>0</td>\n",
       "      <td>2008</td>\n",
       "      <td>6</td>\n",
       "    </tr>\n",
       "    <tr>\n",
       "      <th>...</th>\n",
       "      <td>...</td>\n",
       "      <td>...</td>\n",
       "      <td>...</td>\n",
       "      <td>...</td>\n",
       "      <td>...</td>\n",
       "      <td>...</td>\n",
       "      <td>...</td>\n",
       "    </tr>\n",
       "    <tr>\n",
       "      <th>13490599</th>\n",
       "      <td>E01000504</td>\n",
       "      <td>Brent</td>\n",
       "      <td>Criminal Damage</td>\n",
       "      <td>Criminal Damage To Dwelling</td>\n",
       "      <td>0</td>\n",
       "      <td>2015</td>\n",
       "      <td>2</td>\n",
       "    </tr>\n",
       "    <tr>\n",
       "      <th>13490600</th>\n",
       "      <td>E01002504</td>\n",
       "      <td>Hillingdon</td>\n",
       "      <td>Robbery</td>\n",
       "      <td>Personal Property</td>\n",
       "      <td>1</td>\n",
       "      <td>2015</td>\n",
       "      <td>6</td>\n",
       "    </tr>\n",
       "    <tr>\n",
       "      <th>13490601</th>\n",
       "      <td>E01004165</td>\n",
       "      <td>Sutton</td>\n",
       "      <td>Burglary</td>\n",
       "      <td>Burglary in a Dwelling</td>\n",
       "      <td>0</td>\n",
       "      <td>2011</td>\n",
       "      <td>2</td>\n",
       "    </tr>\n",
       "    <tr>\n",
       "      <th>13490602</th>\n",
       "      <td>E01001134</td>\n",
       "      <td>Croydon</td>\n",
       "      <td>Robbery</td>\n",
       "      <td>Business Property</td>\n",
       "      <td>0</td>\n",
       "      <td>2011</td>\n",
       "      <td>5</td>\n",
       "    </tr>\n",
       "    <tr>\n",
       "      <th>13490603</th>\n",
       "      <td>E01003413</td>\n",
       "      <td>Merton</td>\n",
       "      <td>Violence Against the Person</td>\n",
       "      <td>Wounding/GBH</td>\n",
       "      <td>0</td>\n",
       "      <td>2015</td>\n",
       "      <td>6</td>\n",
       "    </tr>\n",
       "  </tbody>\n",
       "</table>\n",
       "<p>13490604 rows × 7 columns</p>\n",
       "</div>"
      ],
      "text/plain": [
       "          lsoa_code     borough               major_category  \\\n",
       "0         E01001116     Croydon                     Burglary   \n",
       "1         E01001646   Greenwich  Violence Against the Person   \n",
       "2         E01000677     Bromley  Violence Against the Person   \n",
       "3         E01003774   Redbridge                     Burglary   \n",
       "4         E01004563  Wandsworth                      Robbery   \n",
       "...             ...         ...                          ...   \n",
       "13490599  E01000504       Brent              Criminal Damage   \n",
       "13490600  E01002504  Hillingdon                      Robbery   \n",
       "13490601  E01004165      Sutton                     Burglary   \n",
       "13490602  E01001134     Croydon                      Robbery   \n",
       "13490603  E01003413      Merton  Violence Against the Person   \n",
       "\n",
       "                       minor_category  value  year  month  \n",
       "0         Burglary in Other Buildings      0  2016     11  \n",
       "1                      Other violence      0  2016     11  \n",
       "2                      Other violence      0  2015      5  \n",
       "3         Burglary in Other Buildings      0  2016      3  \n",
       "4                   Personal Property      0  2008      6  \n",
       "...                               ...    ...   ...    ...  \n",
       "13490599  Criminal Damage To Dwelling      0  2015      2  \n",
       "13490600            Personal Property      1  2015      6  \n",
       "13490601       Burglary in a Dwelling      0  2011      2  \n",
       "13490602            Business Property      0  2011      5  \n",
       "13490603                 Wounding/GBH      0  2015      6  \n",
       "\n",
       "[13490604 rows x 7 columns]"
      ]
     },
     "execution_count": 20,
     "metadata": {},
     "output_type": "execute_result"
    }
   ],
   "source": [
    "#read csv\n",
    "df_london = pd.read_csv('C:/Users/ASUS/H8_Python_KS09_MSIB _3/Assignment1/dataset/london_crime_by_lsoa.csv')\n",
    "df_london"
   ]
  },
  {
   "cell_type": "markdown",
   "id": "d95b4b10",
   "metadata": {},
   "source": [
    "# Eksplaratory & Cleaning Data"
   ]
  },
  {
   "cell_type": "code",
   "execution_count": 21,
   "id": "5b9265eb",
   "metadata": {},
   "outputs": [
    {
     "data": {
      "text/plain": [
       "(13490604, 7)"
      ]
     },
     "execution_count": 21,
     "metadata": {},
     "output_type": "execute_result"
    }
   ],
   "source": [
    "#melihat dimensi data\n",
    "df_london.shape"
   ]
  },
  {
   "cell_type": "markdown",
   "id": "e4627abb",
   "metadata": {},
   "source": [
    "dari output diatas, dapat dilihat bahwa jumlah data ada 13.490.604 data dengan 7 kolom. sehingga, akan dilanjutkan untuk mengecek missing value."
   ]
  },
  {
   "cell_type": "code",
   "execution_count": null,
   "id": "59ca97e0",
   "metadata": {
    "scrolled": true
   },
   "outputs": [],
   "source": [
    "#cek missing value\n",
    "df_london.isnull().sum()"
   ]
  },
  {
   "cell_type": "markdown",
   "id": "4ba02f4a",
   "metadata": {},
   "source": [
    "dari output diatas, dapat dilihat bahwa data tidak memiliki missing value. sehingga, akan dilanjutkan untuk melihat tipe data pada tiap kolom."
   ]
  },
  {
   "cell_type": "code",
   "execution_count": null,
   "id": "aef9c264",
   "metadata": {
    "scrolled": true
   },
   "outputs": [],
   "source": [
    "#cek tipe data\n",
    "df_london.info()"
   ]
  },
  {
   "cell_type": "markdown",
   "id": "44c6d5ee",
   "metadata": {},
   "source": [
    "dari output diatas, dapat dilihat bahwa tipe data telah sesuai. sehingga akan dilanjutkan untuk mengubah nama kolom menjadi string."
   ]
  },
  {
   "cell_type": "code",
   "execution_count": null,
   "id": "d0aa0321",
   "metadata": {},
   "outputs": [],
   "source": [
    "#ubah nama kolom jd string\n",
    "df_london.columns = list(map(str, df_london.columns))"
   ]
  },
  {
   "cell_type": "markdown",
   "id": "7dfd9562",
   "metadata": {
    "id": "7dfd9562"
   },
   "source": [
    "---\n",
    "# A. Area Plot"
   ]
  },
  {
   "cell_type": "markdown",
   "id": "dd9461fd",
   "metadata": {
    "id": "f9ac7f09"
   },
   "source": [
    "**Question**"
   ]
  },
  {
   "cell_type": "markdown",
   "id": "a8c17416",
   "metadata": {},
   "source": [
    "Bagaimana bentuk area plot untuk membandingkan 5 wilayah yang memiliki jumlah kriminalitas tertinggi di London tahun 2008 - 2016?"
   ]
  },
  {
   "cell_type": "markdown",
   "id": "6d350ef3",
   "metadata": {
    "id": "f9ac7f09"
   },
   "source": [
    "**Pre-processing**"
   ]
  },
  {
   "cell_type": "code",
   "execution_count": null,
   "id": "2dfa7718",
   "metadata": {
    "scrolled": true
   },
   "outputs": [],
   "source": [
    "#menjumlahkan nilai pada kolom value sesuai dengan borough dan year\n",
    "df_group = df_london.groupby(['borough', 'year'])[['value']].sum()"
   ]
  },
  {
   "cell_type": "code",
   "execution_count": null,
   "id": "9dad8388",
   "metadata": {},
   "outputs": [],
   "source": [
    "#ubah nama kolom value jadi total\n",
    "df_group.rename(columns={\"value\":\"total\"}, inplace=True)"
   ]
  },
  {
   "cell_type": "code",
   "execution_count": null,
   "id": "c7d5278d",
   "metadata": {},
   "outputs": [],
   "source": [
    "#reset index menjadi awal terlebih dahulu\n",
    "df_group.reset_index(inplace=True)"
   ]
  },
  {
   "cell_type": "code",
   "execution_count": null,
   "id": "358e37ea",
   "metadata": {
    "scrolled": true
   },
   "outputs": [],
   "source": [
    "#menampilkan data\n",
    "df_group"
   ]
  },
  {
   "cell_type": "code",
   "execution_count": null,
   "id": "35843bc2",
   "metadata": {},
   "outputs": [],
   "source": [
    "#buat variabel years utk menampung list years yang ada di dalam dataframe df_group\n",
    "boroughs = list(df_group[\"borough\"].unique())"
   ]
  },
  {
   "cell_type": "code",
   "execution_count": null,
   "id": "10dbf6dd",
   "metadata": {},
   "outputs": [],
   "source": [
    "#buat variabel years untuk menampung list years yang ada di dalam dataframe df_group\n",
    "years = list(df_group[\"year\"].unique())\n",
    "years"
   ]
  },
  {
   "cell_type": "code",
   "execution_count": null,
   "id": "8b2e3c41",
   "metadata": {},
   "outputs": [],
   "source": [
    "#inisiasi dataframe kosong dari kolom years dan index boroughs\n",
    "df_boryear = pd.DataFrame(None, columns=years, index=boroughs)\n",
    "df_boryear.head()"
   ]
  },
  {
   "cell_type": "code",
   "execution_count": null,
   "id": "04992e1a",
   "metadata": {},
   "outputs": [],
   "source": [
    "#mengisi data pada dataframe df_boryear\n",
    "for borough in boroughs:\n",
    "    for year in years:\n",
    "        df_boryear.at[borough, year] = int(df_group.loc[\n",
    "            (df_group[\"borough\"] == borough)\n",
    "            & (df_group[\"year\"] == year), \"total\"\n",
    "        ])"
   ]
  },
  {
   "cell_type": "code",
   "execution_count": null,
   "id": "8a30e186",
   "metadata": {},
   "outputs": [],
   "source": [
    "#buat kolom total yang akan digunakan  untuk mengurutkan borough\n",
    "df_boryear[\"total\"] = df_boryear.sum(axis=1)"
   ]
  },
  {
   "cell_type": "code",
   "execution_count": null,
   "id": "dff5149a",
   "metadata": {},
   "outputs": [],
   "source": [
    "#urutkan data berdasarkan kolom total scr descending\n",
    "df_boryear.sort_values([\"total\"], ascending=False, inplace=True)"
   ]
  },
  {
   "cell_type": "code",
   "execution_count": null,
   "id": "59c94e00",
   "metadata": {},
   "outputs": [],
   "source": [
    "#ambil 5 data teratas\n",
    "df_top5 = df_boryear.head()\n",
    "df_top5"
   ]
  },
  {
   "cell_type": "code",
   "execution_count": null,
   "id": "6c568592",
   "metadata": {},
   "outputs": [],
   "source": [
    "#hapus kolom total karena tidak dibutuhkan dalam pembuatan area plot\n",
    "del df_top5[\"total\"]"
   ]
  },
  {
   "cell_type": "code",
   "execution_count": null,
   "id": "6b242a96",
   "metadata": {},
   "outputs": [],
   "source": [
    "#transpose df_top5bor\n",
    "df_top5bor = df_top5.transpose()\n",
    "df_top5bor"
   ]
  },
  {
   "cell_type": "markdown",
   "id": "ce60055a",
   "metadata": {
    "id": "9d09cb07"
   },
   "source": [
    "**Visualisasi**"
   ]
  },
  {
   "cell_type": "code",
   "execution_count": null,
   "id": "24a0aadd",
   "metadata": {
    "id": "a712ad87"
   },
   "outputs": [],
   "source": [
    "#area plot\n",
    "df_top5bor.index = df_top5bor.index.map(int)\n",
    "\n",
    "df_top5bor.plot(kind='area',\n",
    "            stacked=False,\n",
    "            figsize=(20, 10),\n",
    "            )\n",
    "\n",
    "plt.title('5 Wilayah dengan Jumlah Kriminalitas Tertinggi di London Tahun 2008-2016')\n",
    "plt.ylabel('Jumlah kriminalitas')\n",
    "plt.xlabel('Tahun')\n",
    "\n",
    "plt.show()"
   ]
  },
  {
   "cell_type": "markdown",
   "id": "98374359",
   "metadata": {
    "id": "e2834d89"
   },
   "source": [
    "**Kesimpulan**"
   ]
  },
  {
   "cell_type": "markdown",
   "id": "a7cd27c1",
   "metadata": {},
   "source": [
    "berdasarkan area plot diatas, dapat dilihat bahwa ada 5 wilayah dengan jumlah kriminalitas tertinggi di London tahun 2008 - 2016 yaitu Westminster, Lambeth, Southwark, Camden, dan Newham. wilayah Westminster mendominasi jumlah kriminalitas tertinggi di London tahun 2008 - 2016, adapun puncak paling tinggi kriminalitas di Westminster sebesar 59.226 ribu di tahun 2012."
   ]
  },
  {
   "cell_type": "markdown",
   "id": "4a193849",
   "metadata": {
    "id": "4a193849"
   },
   "source": [
    "---\n",
    "# B. Histogram"
   ]
  },
  {
   "cell_type": "markdown",
   "id": "4dbf2812",
   "metadata": {
    "id": "f9ac7f09"
   },
   "source": [
    "**Question**"
   ]
  },
  {
   "cell_type": "markdown",
   "id": "76dbb8eb",
   "metadata": {},
   "source": [
    "Berapa distribusi frekuensi yang memiliki jumlah kriminalitas tertinggi di London tahun 2013 jika disajikan dalam histogram? "
   ]
  },
  {
   "cell_type": "markdown",
   "id": "ee90f42b",
   "metadata": {
    "id": "f9ac7f09"
   },
   "source": [
    "**Pre-processing**"
   ]
  },
  {
   "cell_type": "code",
   "execution_count": null,
   "id": "d405ee5b",
   "metadata": {
    "scrolled": true
   },
   "outputs": [],
   "source": [
    "#pilih year 2013\n",
    "y2013 = df_london[(df_london['year'] == 2013)]\n",
    "y2013"
   ]
  },
  {
   "cell_type": "code",
   "execution_count": null,
   "id": "5cace146",
   "metadata": {
    "scrolled": true
   },
   "outputs": [],
   "source": [
    "#urutkan data berdasarkan kolom value secara descending\n",
    "y2013.sort_values([\"value\"], ascending=False, axis=0, inplace=True)"
   ]
  },
  {
   "cell_type": "code",
   "execution_count": null,
   "id": "a793c692",
   "metadata": {},
   "outputs": [],
   "source": [
    "#total kriminal tiap wilayah di tahun 2013\n",
    "df_bor2013 = y2013.groupby(['borough']).sum()"
   ]
  },
  {
   "cell_type": "code",
   "execution_count": null,
   "id": "8ee2075f",
   "metadata": {},
   "outputs": [],
   "source": [
    "#hapus kolom yg tidak digunakan\n",
    "df_bor2013.drop(['year','month'], axis=1, inplace=True)"
   ]
  },
  {
   "cell_type": "code",
   "execution_count": null,
   "id": "1236916b",
   "metadata": {
    "scrolled": false
   },
   "outputs": [],
   "source": [
    "#urutkan data berdasarkan kolom total secara descending\n",
    "df_bor2013.sort_values(['value'], ascending=False, axis=0, inplace=True)\n",
    "df_bor2013.reset_index()"
   ]
  },
  {
   "cell_type": "code",
   "execution_count": null,
   "id": "32f0165c",
   "metadata": {},
   "outputs": [],
   "source": [
    "#np.histogram return 2 values\n",
    "count, bin_edges = np.histogram(df_bor2013)\n",
    "\n",
    "#freq count\n",
    "print(count)\n",
    "\n",
    "#bin ranges, default=10 bins\n",
    "print(bin_edges)   "
   ]
  },
  {
   "cell_type": "markdown",
   "id": "cf60ee44",
   "metadata": {
    "id": "9d09cb07"
   },
   "source": [
    "**Visualisasi**"
   ]
  },
  {
   "cell_type": "code",
   "execution_count": null,
   "id": "2e83e137",
   "metadata": {},
   "outputs": [],
   "source": [
    "#histogram\n",
    "df_bor2013.plot(kind='hist', bins=14, figsize=(10, 6), color=['plum'])\n",
    "plt.title('Jumlah Kriminalitas Tertinggi di London Tahun 2013')\n",
    "plt.ylabel('Banyaknya Wilayah')\n",
    "plt.xlabel('Jumlah Kriminalitas')\n",
    "plt.show()"
   ]
  },
  {
   "cell_type": "markdown",
   "id": "fe1e8923",
   "metadata": {
    "id": "e2834d89"
   },
   "source": [
    "**interpretasi**"
   ]
  },
  {
   "cell_type": "markdown",
   "id": "e59cf81c",
   "metadata": {},
   "source": [
    "berdasarkan histogram diatas, dapat dilihat bahwa distribusi frekuensi jumlah kriminalitas tertinggi dari 33 wilayah di London tahun 2013. sehingga, didapat kisaran bin dan distribusi frekuensinya sebagai berikut:\\\n",
    "1 wilayah terjadi antara  110 - 5484.2 kriminalitas\\\n",
    "3 wilayah terjadi antara 5484.2 - 10858.4 kriminalitas\\\n",
    "5 wilayah terjadi antara 10858.4 - 16232.6 kriminalitas\\\n",
    "9 wilayah terjadi antara 16232.6 - 21606.8  kriminalitas\\\n",
    "9 wilayah terjadi antara 21606.8 - 26981 kriminalitas\\\n",
    "5 wilayah terjadi antara 26981 - 32355.2 kriminalitas\\\n",
    "1 wilayah terjadi antara 48477.8 - 538526 kriminalitas\\"
   ]
  },
  {
   "cell_type": "markdown",
   "id": "2b75ef82",
   "metadata": {
    "id": "2b75ef82"
   },
   "source": [
    "---\n",
    "# C. Bar Chart\n"
   ]
  },
  {
   "cell_type": "markdown",
   "id": "72f38a9a",
   "metadata": {
    "id": "f9ac7f09"
   },
   "source": [
    "**Question**"
   ]
  },
  {
   "cell_type": "markdown",
   "id": "3148afea",
   "metadata": {},
   "source": [
    "Bagaimana bentuk visualisasi jumlah kriminalitas di wilayah Bromley tahun 2010 - 2016 menggunakan bar chart?"
   ]
  },
  {
   "cell_type": "markdown",
   "id": "2aee98a3",
   "metadata": {
    "id": "f9ac7f09"
   },
   "source": [
    "**Pre-processing**"
   ]
  },
  {
   "cell_type": "code",
   "execution_count": null,
   "id": "3e188ecd",
   "metadata": {},
   "outputs": [],
   "source": [
    "#pilih borough dan year\n",
    "west = df_london[(df_london['borough'] == \"Bromley\") &\n",
    "       (df_london['year'] >= 2010)]\n",
    "west"
   ]
  },
  {
   "cell_type": "code",
   "execution_count": null,
   "id": "eb05ba35",
   "metadata": {
    "scrolled": true
   },
   "outputs": [],
   "source": [
    "#urutkan data berdasarkan tahun\n",
    "west.sort_values(['year','month','value'], ascending=True, axis=0, inplace=True)\n",
    "west"
   ]
  },
  {
   "cell_type": "code",
   "execution_count": null,
   "id": "f4c2515f",
   "metadata": {},
   "outputs": [],
   "source": [
    "west.drop(['month'], axis=1, inplace=True)"
   ]
  },
  {
   "cell_type": "code",
   "execution_count": null,
   "id": "e6747fe5",
   "metadata": {
    "scrolled": true
   },
   "outputs": [],
   "source": [
    "#sum year\n",
    "df_year = west.groupby(['year']).sum()\n",
    "df_year"
   ]
  },
  {
   "cell_type": "markdown",
   "id": "003d6fd5",
   "metadata": {
    "id": "9d09cb07"
   },
   "source": [
    "**Visualisasi**"
   ]
  },
  {
   "cell_type": "code",
   "execution_count": null,
   "id": "8992a9d0",
   "metadata": {},
   "outputs": [],
   "source": [
    "df_year.plot(kind='bar', figsize=(8, 6), color='y')\n",
    "\n",
    "plt.title('Jumlah Kriminalitas di Wilayah Bromley Tahun 2010 - 2016')\n",
    "plt.ylim(ymin=0)\n",
    "plt.xlabel('Tahun')\n",
    "plt.ylabel('Jumlah Kriminalitas')\n",
    "\n",
    "plt.show()"
   ]
  },
  {
   "cell_type": "markdown",
   "id": "33fc758e",
   "metadata": {
    "id": "e2834d89"
   },
   "source": [
    "**Kesimpulan**"
   ]
  },
  {
   "cell_type": "markdown",
   "id": "83038ef9",
   "metadata": {},
   "source": [
    "berdasarkan bar chart diatas, dapat dilihat bahwa jumlah kriminalitas tertinggi di wilayah Bromley sebesar 20.637 ribu di tahun 2015 sedangkan untuk jumlah kriminalitas terendahnya ada di tahun 2013 sebesar 18.945 ribu."
   ]
  },
  {
   "cell_type": "markdown",
   "id": "ec41a544",
   "metadata": {
    "id": "ec41a544"
   },
   "source": [
    "---\n",
    "# D. Pie Chart"
   ]
  },
  {
   "cell_type": "markdown",
   "id": "a6dc7280",
   "metadata": {
    "id": "f9ac7f09"
   },
   "source": [
    "**Question**"
   ]
  },
  {
   "cell_type": "markdown",
   "id": "8579a092",
   "metadata": {},
   "source": [
    "Berapa jumlah proporsi (persentase) dari 5 wilayah yang memiliki kriminalitas tertinggi dalam kategori utama \"Burglary\" tahun 2016 dengan menggunakan pie chart?"
   ]
  },
  {
   "cell_type": "markdown",
   "id": "b667defb",
   "metadata": {
    "id": "f9ac7f09"
   },
   "source": [
    "**Pre-processing**"
   ]
  },
  {
   "cell_type": "code",
   "execution_count": null,
   "id": "dd03e031",
   "metadata": {},
   "outputs": [],
   "source": [
    "#pilih major category dan year\n",
    "bur = df_london[(df_london['major_category'] == \"Burglary\") &\n",
    "               (df_london['year'] == 2016)]\n",
    "bur"
   ]
  },
  {
   "cell_type": "code",
   "execution_count": null,
   "id": "49fac59a",
   "metadata": {
    "scrolled": true
   },
   "outputs": [],
   "source": [
    "#group\n",
    "df_group = bur.groupby(['borough', 'year'])[['value']].sum()\n",
    "df_group"
   ]
  },
  {
   "cell_type": "code",
   "execution_count": null,
   "id": "94b3e102",
   "metadata": {},
   "outputs": [],
   "source": [
    "#ubah nama kolom value jadi total\n",
    "df_group.rename(columns={\"value\":\"total\"}, inplace=True)"
   ]
  },
  {
   "cell_type": "code",
   "execution_count": null,
   "id": "aef527c9",
   "metadata": {},
   "outputs": [],
   "source": [
    "#reset index menjadi awal terlebih dahulu\n",
    "df_group.reset_index(inplace=True)"
   ]
  },
  {
   "cell_type": "code",
   "execution_count": null,
   "id": "a77b4824",
   "metadata": {
    "scrolled": true
   },
   "outputs": [],
   "source": [
    "df_group"
   ]
  },
  {
   "cell_type": "code",
   "execution_count": null,
   "id": "bccdb99f",
   "metadata": {},
   "outputs": [],
   "source": [
    "#buat variabel years utk menampung list years yg ada di dlm dataframe df_group\n",
    "boroughs = list(df_group[\"borough\"].unique())\n",
    "boroughs"
   ]
  },
  {
   "cell_type": "code",
   "execution_count": null,
   "id": "33e83e3e",
   "metadata": {
    "scrolled": true
   },
   "outputs": [],
   "source": [
    "#buat variabel years utk menampung list years yg ada di dlm dataframe df_group\n",
    "years = list(df_group[\"year\"].unique())\n",
    "years"
   ]
  },
  {
   "cell_type": "code",
   "execution_count": null,
   "id": "1bc72a82",
   "metadata": {},
   "outputs": [],
   "source": [
    "#inisiasi dataframe kosong dari kolom years dan index boroughs\n",
    "df_boryear = pd.DataFrame(df_group, columns=years, index=boroughs)\n",
    "df_boryear.head()"
   ]
  },
  {
   "cell_type": "code",
   "execution_count": null,
   "id": "29fb79a2",
   "metadata": {},
   "outputs": [],
   "source": [
    "#mengisi data pada dataframe df_boryear\n",
    "for borough in boroughs:\n",
    "    for year in years:\n",
    "        df_boryear.at[borough, year] = int(df_group.loc[\n",
    "            (df_group[\"borough\"] == borough)\n",
    "            & (df_group[\"year\"] == year), \"total\"\n",
    "        ])"
   ]
  },
  {
   "cell_type": "code",
   "execution_count": null,
   "id": "918f230c",
   "metadata": {},
   "outputs": [],
   "source": [
    "#buat kolom total yg akan digunakan  utk mengurutkan borough\n",
    "df_boryear[\"total\"] = df_boryear.sum(axis=1)"
   ]
  },
  {
   "cell_type": "code",
   "execution_count": null,
   "id": "7245086c",
   "metadata": {},
   "outputs": [],
   "source": [
    "#urutkan data berdasarkan kolom total scr descending\n",
    "df_boryear.sort_values([\"total\"], ascending=False, inplace=True)"
   ]
  },
  {
   "cell_type": "code",
   "execution_count": null,
   "id": "e9126ea1",
   "metadata": {},
   "outputs": [],
   "source": [
    "#cek borough sutton\n",
    "df_top5 = df_boryear.head()\n",
    "df_top5"
   ]
  },
  {
   "cell_type": "code",
   "execution_count": null,
   "id": "c6c5a567",
   "metadata": {},
   "outputs": [],
   "source": [
    "#reset index to put in back in as a column\n",
    "df_top5.reset_index(inplace=True)"
   ]
  },
  {
   "cell_type": "code",
   "execution_count": null,
   "id": "7507ad9f",
   "metadata": {
    "scrolled": false
   },
   "outputs": [],
   "source": [
    "df_top5"
   ]
  },
  {
   "cell_type": "code",
   "execution_count": null,
   "id": "2b4496c2",
   "metadata": {
    "scrolled": true
   },
   "outputs": [],
   "source": [
    "#rename kolom\n",
    "df_top5.rename(columns={'index':'borough'}, inplace=True)\n",
    "df_top5.columns"
   ]
  },
  {
   "cell_type": "code",
   "execution_count": null,
   "id": "a9cfde34",
   "metadata": {
    "scrolled": true
   },
   "outputs": [],
   "source": [
    "#set index borough\n",
    "df_top5.set_index(\"borough\")"
   ]
  },
  {
   "cell_type": "code",
   "execution_count": null,
   "id": "860ce763",
   "metadata": {
    "scrolled": true
   },
   "outputs": [],
   "source": [
    "#group contries by borough and apply sum() function\n",
    "\n",
    "df_borough = df_top5.groupby('borough', axis=0).sum()\n",
    "\n",
    "print(type(df_top5.groupby('borough', axis=0)))\n",
    "\n",
    "df_borough.head()"
   ]
  },
  {
   "cell_type": "markdown",
   "id": "a5d9af1b",
   "metadata": {
    "id": "9d09cb07"
   },
   "source": [
    "**Visualisasi**"
   ]
  },
  {
   "cell_type": "code",
   "execution_count": null,
   "id": "ff9705d2",
   "metadata": {
    "scrolled": false
   },
   "outputs": [],
   "source": [
    "#plot data: dg passing kind='pie'\n",
    "\n",
    "df_borough['total'].plot(kind='pie',\n",
    "                            figsize=(5, 6),\n",
    "                            autopct='%1.1f%%',\n",
    "                            startangle=90,\n",
    "                            shadow=True,\n",
    "                           )\n",
    "\n",
    "plt.title('Presentase Kriminalitas Tertinggi dari 5 Wilayah dalam Kategori Utama \"Burglary\" Tahun 2016')\n",
    "plt.axis('equal')\n",
    "\n",
    "plt.show()"
   ]
  },
  {
   "cell_type": "markdown",
   "id": "9181dee9",
   "metadata": {
    "id": "e2834d89"
   },
   "source": [
    "**Kesimpulan**"
   ]
  },
  {
   "cell_type": "markdown",
   "id": "efccdc68",
   "metadata": {},
   "source": [
    "berdasarkan pie chart diatas, dapat dilihat bahwa proporsi jumlah kriminalitas tertinggi dalam kategori utama \"Burglary\" tahun 2016 ada di wilayah Barnet sebesar 22%. sedangkan untuk jumlah kriminalitas terendahnya ada di wilayah Tower Hamlets sebesar 18.1%. sehingga, jika diurutkan dari proporsi jumlah kriminalitas tertinggi dalam kategori utama \"Burglary\" tahun 2016 yaitu wilayah Barnet, Westminster, Lambeth, Southwark, dan  Tower Hamlets."
   ]
  },
  {
   "cell_type": "markdown",
   "id": "f7949b67",
   "metadata": {
    "id": "f7949b67"
   },
   "source": [
    "---\n",
    "# E. Box Plot"
   ]
  },
  {
   "cell_type": "markdown",
   "id": "0170b02e",
   "metadata": {
    "id": "f9ac7f09"
   },
   "source": [
    "**Question**"
   ]
  },
  {
   "cell_type": "markdown",
   "id": "228ba112",
   "metadata": {},
   "source": [
    "Bagaimana visualisasi menggunakan box plot dalam jumlah kriminalitas di wilayah Sutton pada tahun 2008 - 2016?"
   ]
  },
  {
   "cell_type": "markdown",
   "id": "c6dce9a3",
   "metadata": {
    "id": "f9ac7f09"
   },
   "source": [
    "**Pre-processing**"
   ]
  },
  {
   "cell_type": "code",
   "execution_count": null,
   "id": "5cd8f1d2",
   "metadata": {},
   "outputs": [],
   "source": [
    "#pilih borough\n",
    "sutton = df_london[(df_london['borough'] == \"Sutton\")]\n",
    "sutton"
   ]
  },
  {
   "cell_type": "code",
   "execution_count": null,
   "id": "bb2da036",
   "metadata": {},
   "outputs": [],
   "source": [
    "#ubah nama kolom jd string\n",
    "sutton.columns = list(map(str, sutton.columns))"
   ]
  },
  {
   "cell_type": "code",
   "execution_count": null,
   "id": "d16611ed",
   "metadata": {
    "scrolled": true
   },
   "outputs": [],
   "source": [
    "#group\n",
    "df_group = sutton.groupby(['borough', 'year'])[['value']].sum()\n",
    "df_group"
   ]
  },
  {
   "cell_type": "code",
   "execution_count": null,
   "id": "71ffb7b8",
   "metadata": {},
   "outputs": [],
   "source": [
    "#ubah nama kolom value jadi total\n",
    "df_group.rename(columns={\"value\":\"total\"}, inplace=True)"
   ]
  },
  {
   "cell_type": "code",
   "execution_count": null,
   "id": "c6e2496d",
   "metadata": {},
   "outputs": [],
   "source": [
    "#reset index menjadi awal terlebih dahulu\n",
    "df_group.reset_index(inplace=True)"
   ]
  },
  {
   "cell_type": "code",
   "execution_count": null,
   "id": "f26f8177",
   "metadata": {
    "scrolled": true
   },
   "outputs": [],
   "source": [
    "df_group"
   ]
  },
  {
   "cell_type": "code",
   "execution_count": null,
   "id": "7bf90e11",
   "metadata": {},
   "outputs": [],
   "source": [
    "#buat variabel years utk menampung list years yg ada di dlm dataframe df_group\n",
    "boroughs = list(df_group[\"borough\"].unique())\n",
    "boroughs"
   ]
  },
  {
   "cell_type": "code",
   "execution_count": null,
   "id": "f78736ef",
   "metadata": {},
   "outputs": [],
   "source": [
    "#buat variabel years utk menampung list years yg ada di dlm dataframe df_group\n",
    "years = list(df_group[\"year\"].unique())\n",
    "years"
   ]
  },
  {
   "cell_type": "code",
   "execution_count": null,
   "id": "975c30b5",
   "metadata": {},
   "outputs": [],
   "source": [
    "#inisiasi dataframe kosong dari kolom years dan index boroughs\n",
    "df_boryear = pd.DataFrame(df_group, columns=years, index=boroughs)\n",
    "df_boryear.head()"
   ]
  },
  {
   "cell_type": "code",
   "execution_count": null,
   "id": "8e40a32a",
   "metadata": {},
   "outputs": [],
   "source": [
    "#mengisi data pada dataframe df_boryear\n",
    "for borough in boroughs:\n",
    "    for year in years:\n",
    "        df_boryear.at[borough, year] = int(df_group.loc[\n",
    "            (df_group[\"borough\"] == borough)\n",
    "            & (df_group[\"year\"] == year), \"total\"\n",
    "        ])"
   ]
  },
  {
   "cell_type": "code",
   "execution_count": null,
   "id": "45ab2ab7",
   "metadata": {},
   "outputs": [],
   "source": [
    "#buat kolom total yg akan digunakan  utk mengurutkan borough\n",
    "df_boryear[\"total\"] = df_boryear.sum(axis=1)"
   ]
  },
  {
   "cell_type": "code",
   "execution_count": null,
   "id": "ec438e04",
   "metadata": {},
   "outputs": [],
   "source": [
    "#urutkan data berdasarkan kolom total scr descending\n",
    "df_boryear.sort_values([\"total\"], ascending=False, inplace=True)"
   ]
  },
  {
   "cell_type": "code",
   "execution_count": null,
   "id": "57a3684d",
   "metadata": {},
   "outputs": [],
   "source": [
    "#cek borough sutton\n",
    "df_top5 = df_boryear\n",
    "df_top5"
   ]
  },
  {
   "cell_type": "code",
   "execution_count": null,
   "id": "0e131a2b",
   "metadata": {},
   "outputs": [],
   "source": [
    "#hapus kolom total krn tdk dibutuhkan dlm pembuatan box plot\n",
    "del df_top5[\"total\"]"
   ]
  },
  {
   "cell_type": "code",
   "execution_count": null,
   "id": "ebc412b2",
   "metadata": {},
   "outputs": [],
   "source": [
    "#transpose\n",
    "df_top5bor = df_top5.transpose()"
   ]
  },
  {
   "cell_type": "code",
   "execution_count": null,
   "id": "0544f30e",
   "metadata": {},
   "outputs": [],
   "source": [
    "df_top5bor.head()"
   ]
  },
  {
   "cell_type": "code",
   "execution_count": null,
   "id": "4b59dbba",
   "metadata": {
    "scrolled": true
   },
   "outputs": [],
   "source": [
    "df_top5bor.describe()"
   ]
  },
  {
   "cell_type": "markdown",
   "id": "fe845e25",
   "metadata": {
    "id": "9d09cb07"
   },
   "source": [
    "**Visualisasi**"
   ]
  },
  {
   "cell_type": "code",
   "execution_count": null,
   "id": "c6f3181a",
   "metadata": {
    "scrolled": true
   },
   "outputs": [],
   "source": [
    "df_top5bor.plot(kind='box', figsize=(8, 6), color='blue', vert=False)\n",
    "\n",
    "plt.title('Box Plot Jumlah Kriminalitas di Wilayah Sutton Tahun 2008 - 2016')\n",
    "plt.xlabel('Jumlah Kriminalitas')\n",
    "\n",
    "plt.show()"
   ]
  },
  {
   "cell_type": "markdown",
   "id": "88969507",
   "metadata": {
    "id": "e2834d89"
   },
   "source": [
    "**Kesimpulan**"
   ]
  },
  {
   "cell_type": "markdown",
   "id": "56ff2289",
   "metadata": {},
   "source": [
    "berdasarkan box plot diatas, dapat dilihat bahwa data jumlah kriminalitas di wilayah Sutton tahun 2008 - 2016 tidak simetris karena data cenderung miring ke kanan (positive skewness) disertai whisker bagian atas (Q3) lebih panjang daripada bagian bawah (Q1) dan box plot ini tidak memiliki pencilan/outlier."
   ]
  },
  {
   "cell_type": "markdown",
   "id": "13b95330",
   "metadata": {
    "id": "13b95330"
   },
   "source": [
    "---\n",
    "# F. Scatter Plot"
   ]
  },
  {
   "cell_type": "markdown",
   "id": "f01b67a1",
   "metadata": {
    "id": "f9ac7f09"
   },
   "source": [
    "**Question**"
   ]
  },
  {
   "cell_type": "markdown",
   "id": "7e61e78e",
   "metadata": {},
   "source": [
    "Bagaimana perubahan jumlah kriminalitas dalam kategori utama \"Criminal Damage\" di Wilayah Westminster tahun 2008 - 2016 dengan menggunakan scatter plot?"
   ]
  },
  {
   "cell_type": "markdown",
   "id": "831e6be1",
   "metadata": {
    "id": "f9ac7f09"
   },
   "source": [
    "**Pre-processing**"
   ]
  },
  {
   "cell_type": "code",
   "execution_count": null,
   "id": "28bdbd19",
   "metadata": {},
   "outputs": [],
   "source": [
    "#pilih major category dan borough\n",
    "df_crim = df_london[(df_london['borough'] == \"Westminster\") &\n",
    "                   (df_london['major_category'] == \"Criminal Damage\")]\n",
    "df_crim"
   ]
  },
  {
   "cell_type": "code",
   "execution_count": null,
   "id": "14cedb89",
   "metadata": {
    "scrolled": true
   },
   "outputs": [],
   "source": [
    "#group\n",
    "df_group = df_crim.groupby(['borough', 'year'])[['value']].sum()"
   ]
  },
  {
   "cell_type": "code",
   "execution_count": null,
   "id": "9d494117",
   "metadata": {},
   "outputs": [],
   "source": [
    "#ubah nama kolom value jadi total\n",
    "df_group.rename(columns={\"value\":\"total\"}, inplace=True)"
   ]
  },
  {
   "cell_type": "code",
   "execution_count": null,
   "id": "ed69af04",
   "metadata": {},
   "outputs": [],
   "source": [
    "#reset index menjadi awal terlebih dahulu\n",
    "df_group.reset_index(inplace=True)"
   ]
  },
  {
   "cell_type": "code",
   "execution_count": null,
   "id": "378093f0",
   "metadata": {
    "scrolled": true
   },
   "outputs": [],
   "source": [
    "df_group"
   ]
  },
  {
   "cell_type": "markdown",
   "id": "04d30abe",
   "metadata": {
    "id": "9d09cb07"
   },
   "source": [
    "**Visualisasi**"
   ]
  },
  {
   "cell_type": "code",
   "execution_count": null,
   "id": "7db390f7",
   "metadata": {
    "scrolled": true
   },
   "outputs": [],
   "source": [
    "#scatter plot\n",
    "df_group.plot(kind='scatter', x='year', y='total', figsize=(10, 6), color='blue')\n",
    "\n",
    "plt.title('Jumlah Kriminalitas dalam Kategori Utama \"Criminal Damage\" di Wilayah Westminster Tahun 2008 - 2016')\n",
    "plt.xlabel('Tahun')\n",
    "plt.ylabel('Jumlah Kriminalitas')\n",
    "\n",
    "plt.show()"
   ]
  },
  {
   "cell_type": "markdown",
   "id": "4ebeae01",
   "metadata": {
    "id": "e2834d89"
   },
   "source": [
    "**Kesimpulan**"
   ]
  },
  {
   "cell_type": "markdown",
   "id": "20966950",
   "metadata": {
    "id": "8716e6e5"
   },
   "source": [
    "berdasarkan scatter plot diatas, jumlah tingkat kriminalitas dalam kategori utama \"Criminal Damage\" di wilayah Westminster mengalami penurunan yang cukup signifikan di tahun 2008 - 2011. untuk jumlah tingkat kriminalitas tertinggi ada di tahun 2008 sebesar 2.599 ribu, sedangkan untuk terendahnya ada di tahun 2014 sebesar 2.016 ribu."
   ]
  },
  {
   "cell_type": "markdown",
   "id": "ec5a33d5",
   "metadata": {
    "id": "13b95330"
   },
   "source": [
    "---\n",
    "# F. Word Clouds"
   ]
  },
  {
   "cell_type": "markdown",
   "id": "e23f0954",
   "metadata": {
    "id": "f9ac7f09"
   },
   "source": [
    "**Question**"
   ]
  },
  {
   "cell_type": "markdown",
   "id": "e3896356",
   "metadata": {},
   "source": [
    "Berapa jumlah wilayah terjadinya kriminalitas dalam kategori utama \"Drugs\" tahun 2009 dengan menggunakan word clouds?"
   ]
  },
  {
   "cell_type": "markdown",
   "id": "0bc71e9e",
   "metadata": {
    "id": "f9ac7f09"
   },
   "source": [
    "**Pre-processing**"
   ]
  },
  {
   "cell_type": "code",
   "execution_count": null,
   "id": "5d02890e",
   "metadata": {},
   "outputs": [],
   "source": [
    "#pilih major category dan year\n",
    "drugs = df_london[(df_london['major_category'] == \"Drugs\") &\n",
    "                  (df_london['year'] == 2009)]\n",
    "drugs"
   ]
  },
  {
   "cell_type": "code",
   "execution_count": null,
   "id": "85f703fe",
   "metadata": {
    "scrolled": true
   },
   "outputs": [],
   "source": [
    "#group\n",
    "df_group = drugs.groupby(['borough', 'year'])[['value']].sum()\n",
    "df_group"
   ]
  },
  {
   "cell_type": "code",
   "execution_count": null,
   "id": "e13c0986",
   "metadata": {},
   "outputs": [],
   "source": [
    "#ubah nama kolom value jadi total\n",
    "df_group.rename(columns={\"value\":\"total\"}, inplace=True)"
   ]
  },
  {
   "cell_type": "code",
   "execution_count": null,
   "id": "feddc6b2",
   "metadata": {},
   "outputs": [],
   "source": [
    "#reset index menjadi awal terlebih dahulu\n",
    "df_group.reset_index(inplace=True)"
   ]
  },
  {
   "cell_type": "code",
   "execution_count": null,
   "id": "ca50fb63",
   "metadata": {
    "scrolled": true
   },
   "outputs": [],
   "source": [
    "df_group"
   ]
  },
  {
   "cell_type": "code",
   "execution_count": null,
   "id": "5bfe1ae7",
   "metadata": {},
   "outputs": [],
   "source": [
    "#buat variabel years utk menampung list years yg ada di dlm dataframe df_group\n",
    "boroughs = list(df_group[\"borough\"].unique())\n",
    "boroughs"
   ]
  },
  {
   "cell_type": "code",
   "execution_count": null,
   "id": "8fb5c5fa",
   "metadata": {},
   "outputs": [],
   "source": [
    "#buat variabel years utk menampung list years yg ada di dlm dataframe df_group\n",
    "years = list(df_group[\"year\"].unique())\n",
    "years"
   ]
  },
  {
   "cell_type": "code",
   "execution_count": null,
   "id": "f7e56fd1",
   "metadata": {},
   "outputs": [],
   "source": [
    "#inisiasi dataframe kosong dari kolom years dan index boroughs\n",
    "df_boryear = pd.DataFrame(df_group, columns=years, index=boroughs)\n",
    "df_boryear.head()"
   ]
  },
  {
   "cell_type": "code",
   "execution_count": null,
   "id": "3b722b3d",
   "metadata": {},
   "outputs": [],
   "source": [
    "#mengisi data pada dataframe df_boryear\n",
    "for borough in boroughs:\n",
    "    for year in years:\n",
    "        df_boryear.at[borough, year] = int(df_group.loc[\n",
    "            (df_group[\"borough\"] == borough)\n",
    "            & (df_group[\"year\"] == year), \"total\"\n",
    "        ])"
   ]
  },
  {
   "cell_type": "code",
   "execution_count": null,
   "id": "e2b827b8",
   "metadata": {},
   "outputs": [],
   "source": [
    "#buat kolom total yg akan digunakan  utk mengurutkan borough\n",
    "df_boryear[\"total\"] = df_boryear.sum(axis=1)"
   ]
  },
  {
   "cell_type": "code",
   "execution_count": null,
   "id": "5a479e91",
   "metadata": {},
   "outputs": [],
   "source": [
    "#urutkan data berdasarkan kolom total scr descending\n",
    "df_boryear.sort_values([\"total\"], ascending=False, inplace=True)"
   ]
  },
  {
   "cell_type": "code",
   "execution_count": null,
   "id": "77798194",
   "metadata": {
    "scrolled": true
   },
   "outputs": [],
   "source": [
    "#cek data\n",
    "df_boryear"
   ]
  },
  {
   "cell_type": "code",
   "execution_count": null,
   "id": "33940922",
   "metadata": {},
   "outputs": [],
   "source": [
    "#total drugs thn 2009\n",
    "\n",
    "total_drugs = df_boryear['total'].sum()\n",
    "total_drugs"
   ]
  },
  {
   "cell_type": "code",
   "execution_count": null,
   "id": "659683d7",
   "metadata": {
    "scrolled": false
   },
   "outputs": [],
   "source": [
    "max_words = 100\n",
    "word_string = ''\n",
    "for country in df_boryear.index.values:\n",
    "    \n",
    "    #chek if country's name is a single-word name\n",
    "    if len(country.split(' ')) == 1:\n",
    "        repeat_num_times = int(df_boryear.loc[country,'total']/float(total_drugs)*max_words)\n",
    "        word_string = word_string + ((country + ' ') * repeat_num_times)\n",
    "        \n",
    "#display the generated text\n",
    "word_string"
   ]
  },
  {
   "cell_type": "code",
   "execution_count": null,
   "id": "c1b4ed67",
   "metadata": {},
   "outputs": [],
   "source": [
    "#create the word cloud\n",
    "wordcloud = WordCloud(background_color='white').generate(word_string)"
   ]
  },
  {
   "cell_type": "markdown",
   "id": "e4630781",
   "metadata": {
    "id": "9d09cb07"
   },
   "source": [
    "**Visualisasi**"
   ]
  },
  {
   "cell_type": "code",
   "execution_count": null,
   "id": "141a6991",
   "metadata": {
    "scrolled": true
   },
   "outputs": [],
   "source": [
    "#word clouds\n",
    "fig = plt.figure()\n",
    "fig.set_figwidth(14)\n",
    "fig.set_figheight(18)\n",
    "\n",
    "plt.imshow(wordcloud, interpolation='bilinear')\n",
    "plt.axis('off')\n",
    "plt.show()"
   ]
  },
  {
   "cell_type": "markdown",
   "id": "ca2f80ca",
   "metadata": {
    "id": "e2834d89"
   },
   "source": [
    "**Kesimpulan**"
   ]
  },
  {
   "cell_type": "markdown",
   "id": "20b8a374",
   "metadata": {},
   "source": [
    "berdasarkan word clouds diatas, jumlah kriminalitas dalam kategori utama \"Drugs\" tahun 2009 terdapat 24 wilayah yang ditampilkan oleh word clouds. wilayah Westminster dan Southwark menjadi jumlah kriminalitas terbanyak dalam kategori utama \"Drugs\" di tahun 2009, hal ini dilihat dari semakin besar dan tebal kata itu muncul pada word clouds."
   ]
  },
  {
   "cell_type": "markdown",
   "id": "cab930b6",
   "metadata": {},
   "source": [
    "# Overall Analysis"
   ]
  },
  {
   "cell_type": "markdown",
   "id": "bcf35ade",
   "metadata": {},
   "source": [
    "berdasarkan dari hasil visualisasi data sederhana yang telah dibuat menggunakan data kejahatan london (london crime data) pada tahun 2008-2016 terdapat sekitar 13 juta data dengan 33 wilayah dan 9 kategori kejahatan mayor/tingkat tinggi, sehingga dapat disimpulkan bahwa:\n",
    "1. wilayah Weistminster memiliki jumlah aktivitas kriminal paling besar di London.\n",
    "2. 5 wilayah yang paling banyak terjadi kriminalitas di London yaitu Westminster, Lambeth, Southwark, Camden dan Newham.\n",
    "3. jumlah kriminalitas tertinggi dalam kategori utama \"Burglary\" tahun 2016 ada di wilayah Barnet sebesar 22%.\n",
    "4. pada tahun 2009, wilayah Westminster dan Southwark menjadi jumlah kriminalitas tertinggi dalam kategori utama \"Drugs\""
   ]
  }
 ],
 "metadata": {
  "colab": {
   "provenance": []
  },
  "kernelspec": {
   "display_name": "Python 3 (ipykernel)",
   "language": "python",
   "name": "python3"
  },
  "language_info": {
   "codemirror_mode": {
    "name": "ipython",
    "version": 3
   },
   "file_extension": ".py",
   "mimetype": "text/x-python",
   "name": "python",
   "nbconvert_exporter": "python",
   "pygments_lexer": "ipython3",
   "version": "3.9.12"
  },
  "toc": {
   "base_numbering": 1,
   "nav_menu": {},
   "number_sections": true,
   "sideBar": true,
   "skip_h1_title": false,
   "title_cell": "Table of Contents",
   "title_sidebar": "Contents",
   "toc_cell": false,
   "toc_position": {
    "height": "calc(100% - 180px)",
    "left": "10px",
    "top": "150px",
    "width": "165px"
   },
   "toc_section_display": true,
   "toc_window_display": true
  }
 },
 "nbformat": 4,
 "nbformat_minor": 5
}
